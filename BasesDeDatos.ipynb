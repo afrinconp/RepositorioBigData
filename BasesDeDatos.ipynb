{
 "cells": [
  {
   "cell_type": "markdown",
   "id": "f3e9b250",
   "metadata": {},
   "source": [
    "# Diseño y construcción de una bases de datos\n"
   ]
  },
  {
   "cell_type": "markdown",
   "id": "03270e08",
   "metadata": {},
   "source": [
    "## Esquema E/R "
   ]
  },
  {
   "cell_type": "markdown",
   "id": "ebdd51ae",
   "metadata": {},
   "source": [
    "El Modelaje entidad-relación es una técnica para definir necesidades de información en la organización.\n",
    "\n",
    "\n",
    "En términos sencillos, el modelaje entidad-relación involucra la identificación de cosas importantes en la organización (entidades), las propiedades de estas cosas (atributos) y como estas cosas están relacionadas entre sí (relaciones).\n",
    "\n",
    "Un modelo de este tipo se construye con base en un conjunto de técnicas gráficas, que pretenden describir en términos de datos los requerimientos de una organización, siendo el soporte para brindar información de tipo operativo, táctico y gerencial a las personas que la necesitan."
   ]
  },
  {
   "cell_type": "markdown",
   "id": "e6404f55",
   "metadata": {},
   "source": [
    "## Entidades e instancias"
   ]
  },
  {
   "cell_type": "markdown",
   "id": "3dc232dc",
   "metadata": {},
   "source": [
    "El propósito de una base de datos que forma parte de un sistema de información es almacenar información acerca de ciertos tipos de objetos. En el lenguaje de las bases de datos estos objetos son llamados instancias.\n",
    "\n",
    "Así, una entidad es una cosa u objeto de significancia, ya sea real o imaginaria, acerca de la cual se necesita tener información. El ejemplo de inicio, contiene entidades como ciudades, departamentos, instituciones.\n",
    "\n",
    "Es importante hacer la diferencia entre las entidades que están contenidas en una base de datos en un momento dado(instancias) y el mundo de todas las posibles entidades que la base puede contener.\n",
    "\n",
    "La importancia radica en que el contenido de la base de datos cambia continuamente, y las decisiones no pueden tomarse sobre la información actual, sino que se debe pensar sobre el contenido de la base de datos en el futuro.\n",
    "Por ejemplo la base datos del ejemplo puede 2450 entidades de tipo ciudad. Sin embargo en el futuro se puede tener algunas otras mas y pueden eliminarse otras.\n",
    "\n",
    "Una entidad es el conjunto de todas las posibles instancias que una base de datos puede contener.\n",
    "\n",
    "En el ejemplo, el conjunto de todas las posibles ciudades es la clase entidad CIUDAD.\n",
    "\n",
    "En la implementación se suguiere agregar el prefijo tbl como una convención de nombrado de objetos. Otras clases entidad del ejemplo son: Departamento, Institución, Editorial, Idioma, etc.\n",
    "\n"
   ]
  },
  {
   "cell_type": "markdown",
   "id": "7b442343",
   "metadata": {},
   "source": [
    "## Representación gráfica de entidades"
   ]
  },
  {
   "cell_type": "markdown",
   "id": "85b158ac",
   "metadata": {},
   "source": [
    "Una entidad se representa gráficamente mediante una caja de tipo Softbox (Un rectángulo con las esquinas redondeadas), rotulada con el nombre de la clase entidad correspondiente.\n",
    "\n",
    "El nombre de la entidad se escribe en singular y en mayúsculas en el centro de la parte superior de la caja.\n",
    "\n",
    "El tamaño de la caja no tiene un estándar definido, sin embargo debe ser el suficiente de tal manera que permita la localización de un nombre no ambiguo (en lo posible sin abreviaciones)."
   ]
  },
  {
   "cell_type": "markdown",
   "id": "3b5e397b",
   "metadata": {},
   "source": [
    "El nombre para una entidad debe ser una representación de un tipo o clase de cosa, no de una instancia (ocurrencia) o entidad particular. La siguientes figuras muestran la forma correcta de representar una entidad y una una forma incorrecta respectivamente."
   ]
  },
  {
   "cell_type": "markdown",
   "id": "08bfe450",
   "metadata": {},
   "source": [
    "![fig](CiudadDep.jpg)"
   ]
  },
  {
   "cell_type": "markdown",
   "id": "8a9df794",
   "metadata": {},
   "source": [
    "La anterior figura representa las  entidades correctas"
   ]
  },
  {
   "cell_type": "markdown",
   "id": "ab2d0047",
   "metadata": {},
   "source": [
    "![Ejemploincorrecto](CiudadAtlantico.png)"
   ]
  },
  {
   "cell_type": "markdown",
   "id": "3d128470",
   "metadata": {},
   "source": [
    "La anterior figura no representa entidades"
   ]
  },
  {
   "cell_type": "markdown",
   "id": "7f4fb3fa",
   "metadata": {},
   "source": [
    "### Algunas características generales de las entidades y de las clases de entidades"
   ]
  },
  {
   "cell_type": "markdown",
   "id": "6c032a1b",
   "metadata": {},
   "source": [
    "- Cualquier tipo de cosa u objeto puede solamente ser representado por una clase entidad, es decir las clases de entidades son mutuamente exclusivas en todos los casos.\n",
    "- Cada entidad debe ser identificable de manera única, es decir que cada instancia (ocurrencia) de la clase entidad deber ser separada y distinta de todas las otras instancias de la entidad.\n",
    "- Además de la representación en detalle de los requerimientos de información cada para cada clase entidad se requiere disponer de : \n",
    "    + Nombre\n",
    "    + Sinónimos (Otras forma o manera de denominación)\n",
    "    + Volúmenes estimados\n",
    "    + Descripción\n",
    "    + Notas, Comentarios y las Observaciones \n",
    "- Cada clase entidad tiene asociados\n",
    "    + Atributos (Al menos dos)\n",
    "    + Relaciones (Al menos una)\n",
    "    + identificador único (Al menos uno)\n",
    "    + Funciones del negocio involucradas con la Entidad (Al menos una)"
   ]
  },
  {
   "cell_type": "markdown",
   "id": "7a0c5794",
   "metadata": {},
   "source": [
    "###  Taxonomía de las entidades"
   ]
  },
  {
   "cell_type": "markdown",
   "id": "8df35421",
   "metadata": {},
   "source": [
    "Las clases de entidades más típicas pueden clasificarse en\n",
    "\n",
    "- **Sujetos.** Personas y organizaciones que originan transacciones registradas en el sistema. \n",
    "Ejemplos: Cliente, Proveedor, Empleado, Tercero, Estudiante, Dependencia.\n",
    "- **Objetos.** Entes tangibles, cuentas para los cuales se mantienen saldos afectados por las transacciones. Ejemplos: Artículo, Cuenta Contable.\n",
    "- **Eventos.** Transacciones (originadas por sujetos y que afectan objetos) generalmente registradas en documentos. Ejemplos: Novedades, Ajustes, Consignaciones.\n",
    "- **Lugares.** Ubicación de sujetos y objetos. Ejemplos: ciudad, región, edificio.\n",
    "- **Abstracciones.** Conceptos empleados para clasificar o medir otras entidades. Ejemplos: Tipo de Novedad, Unidad de Medida, Nivel de Cargo.\n",
    "\n",
    "Las abstracciones son un tipo particularmente importante de entidad, ya que dan origen a clasificaciones de las entidades."
   ]
  },
  {
   "cell_type": "markdown",
   "id": "b0068453",
   "metadata": {},
   "source": [
    "## Relaciones y conjuntos de relaciones"
   ]
  },
  {
   "cell_type": "markdown",
   "id": "244b79ed",
   "metadata": {},
   "source": [
    "Una relación binaria es una asociación entre dos entidades, que representa un vinculo de información entre dos fuentes dentro de la organización.\n",
    "En la teoría general de bases de datos las relaciones pueden ser n-arias, en el modelo entidad–relación.\n",
    "En lo que sigue siempre se consideran relaciones binarias.\n",
    "\n",
    "Una relación es binaria en el sentido de que siempre es una asociación exactamente entre dos instancias de distinto tipo, o entre dos instancias del mismo tipo. Por ejemplo, entre las entidades Medellín (de la entidad CIUDAD) y Antioquia (de la entidad DEPARTAMENTO) existe la relación binaria descrita por “Medellín está ubicada en Antioquia”.Nótese que varias entidades de tipo Ciudad están relacionadas con la entidad Antioquia exactamente en el mismo sentido.\n",
    "Esta relación se representa en forma abstracta como se indica a continuación\n"
   ]
  },
  {
   "cell_type": "markdown",
   "id": "0eb40a27",
   "metadata": {},
   "source": [
    "![SGBD](CiudadDeptR.jpg)\n",
    "\n",
    "Figura 5. Representación de una relación binaria entre instancias de entidades CIUDAD- DEPARTAMENTO."
   ]
  },
  {
   "cell_type": "markdown",
   "id": "54f13bc7",
   "metadata": {},
   "source": [
    "### Representación gráfica de relaciones entre entidades"
   ]
  },
  {
   "cell_type": "markdown",
   "id": "856a47cf",
   "metadata": {},
   "source": [
    "Las relaciones entre entidades se representan como líneas que conectan las cajas que representan a las entidades participantes en la asociación. Dentro de la representación se distinguen básicamente dos extremos, en razón del vinculo binario. Cada extremo se conecta a la caja de la entidad correspondiente. La Figura próxima presenta un ejemplo de representación de un relación binaria entre dos entidades de distinta clase.\n",
    "\n",
    "Como se explica un poco mas adelante, el gráfico representa una relación en donde una instancia de la entidad $A$ se relaciona con a lo mas una instancia de la  entidad $B$ y a su vez una instancias de la entidad $B$ puede estar relacionada con muchas instancias de de la entidad $A$.\n"
   ]
  },
  {
   "cell_type": "markdown",
   "id": "3193c731",
   "metadata": {},
   "source": [
    "![Imag3](Selection006.jpg)\n",
    "\n",
    "Figura 6. Representación gráfica de una relación binaria entre entidades de distinto tipo"
   ]
  },
  {
   "cell_type": "markdown",
   "id": "fafd970f",
   "metadata": {},
   "source": [
    "## Tipos de relaciones. Cardinalidad de asignación en las relaciones"
   ]
  },
  {
   "cell_type": "markdown",
   "id": "6b2e1632",
   "metadata": {},
   "source": [
    "La cardinalidad de asignación en la relaciones expresa el número de entidades con las que puede asociarse (vincularse o relacionarse) otra entidad en un conjunto de entidades. La cardinalidad o grado de asignación puede ser:\n",
    "\n",
    "\n",
    "1. **Una a una**. El tipo de relación es uno a uno (1:1).\n",
    "2.**Una a muchas**. El tipo de relación es uno a muchos (1:N)\n",
    "3. **Muchas a muchas**. El tipo de relación es muchos a muchos (N:M)."
   ]
  },
  {
   "cell_type": "markdown",
   "id": "d83433ee",
   "metadata": {},
   "source": [
    "A continuacion de muestran algunos diagramas representativos  de las relaciones Una a una, una a muchas, muchas a muchas."
   ]
  },
  {
   "cell_type": "markdown",
   "id": "0ac39d9e",
   "metadata": {},
   "source": [
    "#### Relaciones uno a uno (1:1)"
   ]
  },
  {
   "cell_type": "markdown",
   "id": "d60b7283",
   "metadata": {},
   "source": [
    "Una instancia de la entidad 𝐴 se relaciona a lo mas con una y sólo una instancia de la clase entidad 𝐵 y viceversa, es decir, una instancia de la entidad 𝐵 se relaciona a lo mas con una y sólo una instancia de la entidad 𝐵. "
   ]
  },
  {
   "cell_type": "markdown",
   "id": "97cdb016",
   "metadata": {},
   "source": [
    "![UNOa](unouno.jpg)\n",
    "\n",
    "Figura 7. Representación gráfica de una relación binaria de tipo 1:1."
   ]
  },
  {
   "cell_type": "markdown",
   "id": "ec0e201a",
   "metadata": {},
   "source": [
    "Esta es una forma de relación poco común, debido a que por lo general se trata de una separación de los atributos de una misma entidad. "
   ]
  },
  {
   "cell_type": "markdown",
   "id": "d05b661c",
   "metadata": {},
   "source": [
    "Sim embargo se puede dar un ejemplo de una relación de tipo 1 a 1 es considerar la entidad PERSONA y la entidad PLANTA. de una institución oficial. Cada cargo en la planta es ocupado por una y solo una persona. Por facilidad de manipulación de la base datos pueden ser mas conveniente mantener separadas las instancias de la entidad PLANTA de las instancias de la entidad PERSONA."
   ]
  },
  {
   "cell_type": "markdown",
   "id": "92ef54a0",
   "metadata": {},
   "source": [
    "![PlantaPersona](PlantaPersona.jpg)\n",
    "\n",
    "Figura 8. Representación gráfica de una relación Planta-Persona"
   ]
  },
  {
   "cell_type": "markdown",
   "id": "cb2bc3b3",
   "metadata": {},
   "source": [
    "### Relaciones mucho a uno (1:N)"
   ]
  },
  {
   "cell_type": "markdown",
   "id": "360434d4",
   "metadata": {},
   "source": [
    "Una instancia en la entidad 𝐴 se relaciona a los más una instancia de de la entidad 𝐵. Una instancia en la entidad 𝐵 puede estar asociada con un número cualquiera de instancias de la entidad 𝐴."
   ]
  },
  {
   "cell_type": "markdown",
   "id": "12acdb0d",
   "metadata": {},
   "source": [
    "![1N](1N.jpg)\n",
    "\n",
    "Figura 9. Representación gráfica de una relación 1:N entre instancias"
   ]
  },
  {
   "cell_type": "markdown",
   "id": "cab35ada",
   "metadata": {},
   "source": [
    "A continuación se muestra la representación abstracta en un modelo entidad-relación de un relación una a muchas entre instancias de la entidad 𝐵 (extremo uno de la relación) e instancias de la entidad 𝐴 (extremo muchos de la relación)."
   ]
  },
  {
   "cell_type": "markdown",
   "id": "dc084fce",
   "metadata": {},
   "source": [
    "![Muchasuno](1Nb.jpg)"
   ]
  },
  {
   "cell_type": "markdown",
   "id": "1932882d",
   "metadata": {},
   "source": [
    "### Relaciones muchos a muchos (M:N)"
   ]
  },
  {
   "cell_type": "markdown",
   "id": "a33fd0c7",
   "metadata": {},
   "source": [
    "Una instancia en 𝐴 está asociada con un número cualquiera de instancias en 𝐵, y una instancia en 𝐵 está asociada con un número cualquiera de instancias en 𝐴. "
   ]
  },
  {
   "cell_type": "markdown",
   "id": "aa56db47",
   "metadata": {},
   "source": [
    "![MNa](MNa.jpg)\n",
    "\n",
    "Figura 13. Relación muchos a muchos entre instancias"
   ]
  },
  {
   "cell_type": "markdown",
   "id": "68576dfc",
   "metadata": {},
   "source": [
    "A continuación se muestra como representar gráficamente una relación muchos a muchos en un diagrama entidad – relación"
   ]
  },
  {
   "cell_type": "markdown",
   "id": "1dd49cab",
   "metadata": {},
   "source": [
    "![Mnb](MNb.jpg)"
   ]
  },
  {
   "cell_type": "markdown",
   "id": "70499490",
   "metadata": {},
   "source": [
    "A continuación se muestra un ejemplo de relación (N:M).\n",
    "\n",
    "- Un libro es escrito por uno o mas autores\n",
    "- Un autor es el autor de uno o más libros."
   ]
  },
  {
   "cell_type": "markdown",
   "id": "b601fbf4",
   "metadata": {},
   "source": [
    "![MNbejemplo](MNejemplo.png)"
   ]
  },
  {
   "cell_type": "markdown",
   "id": "45a290ea",
   "metadata": {},
   "source": [
    "A continuación se muestra un ejemplo de diagrama E/R para la base de datos [sakila](https://dev.mysql.com/doc/index-other.html) hecha en Workbench"
   ]
  },
  {
   "cell_type": "markdown",
   "id": "1925d31e",
   "metadata": {},
   "source": [
    "![DiagramaEjemplo](DiagramDef2.png)"
   ]
  },
  {
   "cell_type": "code",
   "execution_count": null,
   "id": "37caae68",
   "metadata": {},
   "outputs": [],
   "source": []
  },
  {
   "cell_type": "markdown",
   "id": "8ca64563",
   "metadata": {},
   "source": [
    "### Descripción de un procedimiento almacenado, una función y un trigger."
   ]
  },
  {
   "cell_type": "markdown",
   "id": "13c376cc",
   "metadata": {},
   "source": [
    "# Proceso de almacenamiento"
   ]
  },
  {
   "cell_type": "markdown",
   "id": "358ef416",
   "metadata": {},
   "source": [
    "# Crear procedimientos Almacenados en MySQL (MariaDB)\n",
    "\n",
    "Un procedimiento es un conjunto de instrucciones que se almacenan en el servidor, para usarlas posteriormente, ya que se usarán frecuentemente y contienen acciones programadas, el uso de los procedimiento simplificará el uso de esas instrucciones, ya que no tendremos que volver a teclear todas las instrucciones, sino solamente invocaremos al procedimiento, la instrucción PROCEDURE, hace referencia al procedimiento almacenado, un procedimiento almacenado (SP) (Stored Procedure) acepta parámetros de entrada, para darle más dinamismo, pero para entenderlo mejor, como siempre nos pondremos manos a la obra y haremos lo que nos gusta, que es hacerlo.\n",
    "Primero veamos algunas ventajas de utilizar los procedimientos almacenados\n",
    "\n",
    "\n",
    "Ventajas del uso de los procedimientos almacenados\n",
    "\n",
    "- Seguridad: Los procedimientos ocultan el nombre de las tablas, de manera que nadie podrá saber que tablas se mandan llamar.\n",
    "- Velocidad: Los procedimientos almacenados son más veloces, que ejecutar una a una las instrucciones, ya que están parametrizados.\n",
    "- Estándares de programación: El uso de procedimientos almacenados es un estandard de la programación y su uso es recomendable\n",
    "\n"
   ]
  },
  {
   "cell_type": "markdown",
   "id": "5aebac3f",
   "metadata": {},
   "source": [
    "### Funciones en MySQL (MariaDB)"
   ]
  },
  {
   "cell_type": "markdown",
   "id": "ace9947e",
   "metadata": {},
   "source": [
    "Así como existen los procedimientos, también existen las funciones. Para crear una función, MariaDB nos ofrece la directiva CREATE FUNCTION.\n",
    "\n",
    "La diferencia entre una función y un procedimiento es que la función devuelve valores. Estos valores pueden ser utilizados como argumentos para instrucciones SQL, tal como lo hacemos normalmente con otras funciones como son, por ejemplo, MAX() o COUNT().\n",
    "\n",
    "Utilizar la cláusula RETURNS es obligatorio al momento de definir una función y sirve para especificar el tipo de dato que será devuelto (sólo el tipo de dato, no el dato).\n",
    "\n",
    "Su sintaxis es:\n",
    "\n",
    "CREATE FUNCTION nombre (parámetro)\n",
    "RETURNS tipo\n",
    "[características] definición"
   ]
  },
  {
   "cell_type": "markdown",
   "id": "fd290b67",
   "metadata": {},
   "source": [
    "### Triggers en MySQL (MariaDB)"
   ]
  },
  {
   "cell_type": "markdown",
   "id": "644513f6",
   "metadata": {},
   "source": [
    "Un trigger, también conocido como disparador (Por su traducción al español) es un conjunto de sentencias SQL las cuales se ejecutan de forma automática cuando ocurre algún evento que modifique a una tabla. Pero no me refierón a una modificación de estructura, no, me refiero a una modificación en cuando a los datos almacenados, es decir, cuando se ejecute una sentencia INSERT, UPDATE o DELETE.\n",
    "\n",
    "    A diferencia de una función o un store procedure, un trigger no puede existir sin una tabla asociada.\n",
    "\n",
    "Lo interesante aquí es que podemos programar los triggers de tal manera que se ejecuten antes o después, de dichas sentencias; Dando como resultado seis combinaciones de eventos."
   ]
  },
  {
   "cell_type": "markdown",
   "id": "4958510c",
   "metadata": {},
   "source": [
    "- BEFORE INSERT Acciones a realizar antes de insertar uno más o registros en una tabla.\n",
    "\n",
    "- AFTER INSERT Acciones a realizar después de insertar uno más o registros en una tabla.\n",
    "\n",
    "- BEFORE UPDATE Acciones a realizar antes de actualizar uno más o registros en una tabla.\n",
    "\n",
    "- AFTER UPDATE Acciones a realizar después de actualizar uno más o registros en una tabla.\n",
    "\n",
    "- BEFORE DELETE Acciones a realizar antes de eliminar uno más o registros en una tabla.\n",
    "\n",
    "- AFTER DELETE Acciones a realizar después de eliminar uno más o registros en una tabla.\n"
   ]
  },
  {
   "cell_type": "markdown",
   "id": "c76d8595",
   "metadata": {},
   "source": [
    "# Algunas consultas de ejemplo"
   ]
  },
  {
   "cell_type": "code",
   "execution_count": 1,
   "id": "74b71d22",
   "metadata": {},
   "outputs": [
    {
     "data": {
      "text/html": [
       "<TABLE BORDER=1><TR><TH>Database</TH></TR><TR><TD>GRUPOS</TD></TR><TR><TD>birdwatchers</TD></TR><TR><TD>empleados</TD></TR><TR><TD>information_schema</TD></TR><TR><TD>mysql</TD></TR><TR><TD>performance_schema</TD></TR><TR><TD>rookery</TD></TR><TR><TD>sakila</TD></TR><TR><TD>test</TD></TR></TABLE>"
      ]
     },
     "metadata": {},
     "output_type": "display_data"
    }
   ],
   "source": [
    "SHOW DATABASES;"
   ]
  },
  {
   "cell_type": "code",
   "execution_count": 2,
   "id": "0064d8c5",
   "metadata": {},
   "outputs": [
    {
     "data": {
      "text/html": []
     },
     "metadata": {},
     "output_type": "display_data"
    }
   ],
   "source": [
    "USE sakila;"
   ]
  },
  {
   "cell_type": "code",
   "execution_count": 7,
   "id": "5183de54",
   "metadata": {},
   "outputs": [
    {
     "data": {
      "text/html": [
       "<TABLE BORDER=1><TR><TH>Tables_in_sakila</TH></TR><TR><TD>actor</TD></TR><TR><TD>actor_info</TD></TR><TR><TD>address</TD></TR><TR><TD>category</TD></TR><TR><TD>city</TD></TR><TR><TD>country</TD></TR><TR><TD>customer</TD></TR><TR><TD>customer_list</TD></TR><TR><TD>film</TD></TR><TR><TD>film_actor</TD></TR><TR><TD>film_category</TD></TR><TR><TD>film_list</TD></TR><TR><TD>film_text</TD></TR><TR><TD>inventory</TD></TR><TR><TD>language</TD></TR><TR><TD>nicer_but_slower_film_list</TD></TR><TR><TD>payment</TD></TR><TR><TD>rental</TD></TR><TR><TD>sales_by_film_category</TD></TR><TR><TD>sales_by_store</TD></TR><TR><TD>staff</TD></TR><TR><TD>staff_list</TD></TR><TR><TD>store</TD></TR></TABLE>"
      ]
     },
     "metadata": {},
     "output_type": "display_data"
    }
   ],
   "source": [
    "SHOW TABLES;"
   ]
  },
  {
   "cell_type": "code",
   "execution_count": 34,
   "id": "8b765619",
   "metadata": {},
   "outputs": [
    {
     "data": {
      "text/html": [
       "<TABLE BORDER=1><TR><TH>Actor</TH></TR><TR><TD>DEBBIE AKROYD</TD></TR><TR><TD>KIRSTEN AKROYD</TD></TR><TR><TD>CHRISTIAN AKROYD</TD></TR><TR><TD>MERYL ALLEN</TD></TR><TR><TD>CUBA ALLEN</TD></TR><TR><TD>KIM ALLEN</TD></TR><TR><TD>ANGELINA ASTAIRE</TD></TR><TR><TD>RUSSELL BACALL</TD></TR><TR><TD>JESSICA BAILEY</TD></TR><TR><TD>AUDREY BAILEY</TD></TR><TR><TD>HARRISON BALE</TD></TR><TR><TD>RENEE BALL</TD></TR><TR><TD>JULIA BARRYMORE</TD></TR><TR><TD>VIVIEN BASINGER</TD></TR><TR><TD>MICHAEL BENING</TD></TR><TR><TD>SCARLETT BENING</TD></TR><TR><TD>VIVIEN BERGEN</TD></TR><TR><TD>LIZA BERGMAN</TD></TR><TR><TD>HENRY BERRY</TD></TR><TR><TD>CHRISTOPHER BERRY</TD></TR><TR><TD>KARL BERRY</TD></TR><TR><TD>CUBA BIRCH</TD></TR><TR><TD>KEVIN BLOOM</TD></TR><TR><TD>VAL BOLGER</TD></TR><TR><TD>MICHAEL BOLGER</TD></TR><TR><TD>CHRIS BRIDGES</TD></TR><TR><TD>GOLDIE BRODY</TD></TR><TR><TD>LAURA BRODY</TD></TR><TR><TD>LAURENCE BULLOCK</TD></TR><TR><TD>JOHNNY CAGE</TD></TR><TR><TD>ZERO CAGE</TD></TR><TR><TD>MATTHEW CARREY</TD></TR><TR><TD>GREG CHAPLIN</TD></TR><TR><TD>ED CHASE</TD></TR><TR><TD>JON CHASE</TD></TR><TR><TD>RUSSELL CLOSE</TD></TR><TR><TD>FRED COSTNER</TD></TR><TR><TD>RIP CRAWFORD</TD></TR><TR><TD>DARYL CRAWFORD</TD></TR><TR><TD>ANNE CRONYN</TD></TR><TR><TD>PENELOPE CRONYN</TD></TR><TR><TD>SIDNEY CROWE</TD></TR><TR><TD>JUDE CRUISE</TD></TR><TR><TD>RALPH CRUZ</TD></TR><TR><TD>SCARLETT DAMON</TD></TR><TR><TD>SUSAN DAVIS</TD></TR><TR><TD>SUSAN DAVIS</TD></TR><TR><TD>JENNIFER DAVIS</TD></TR><TR><TD>FRANCES DAY-LEWIS</TD></TR><TR><TD>RIVER DEAN</TD></TR><TR><TD>JUDY DEAN</TD></TR><TR><TD>LUCILLE DEE</TD></TR><TR><TD>EMILY DEE</TD></TR><TR><TD>JODIE DEGENERES</TD></TR><TR><TD>NICK DEGENERES</TD></TR><TR><TD>GINA DEGENERES</TD></TR><TR><TD>JULIANNE DENCH</TD></TR><TR><TD>CHARLIZE DENCH</TD></TR><TR><TD>SPENCER DEPP</TD></TR><TR><TD>CHRIS DEPP</TD></TR><TR><TD>SYLVESTER DERN</TD></TR><TR><TD>ALAN DREYFUSS</TD></TR><TR><TD>ROCK DUKAKIS</TD></TR><TR><TD>BURT DUKAKIS</TD></TR><TR><TD>GROUCHO DUNST</TD></TR><TR><TD>BOB FAWCETT</TD></TR><TR><TD>JULIA FAWCETT</TD></TR><TR><TD>CHRISTIAN GABLE</TD></TR><TR><TD>HUMPHREY GARLAND</TD></TR><TR><TD>KEVIN GARLAND</TD></TR><TR><TD>AL GARLAND</TD></TR><TR><TD>MERYL GIBSON</TD></TR><TR><TD>PARKER GOLDBERG</TD></TR><TR><TD>GREGORY GOODING</TD></TR><TR><TD>EWAN GOODING</TD></TR><TR><TD>ADAM GRANT</TD></TR><TR><TD>SEAN GUINESS</TD></TR><TR><TD>PENELOPE GUINESS</TD></TR><TR><TD>ED GUINESS</TD></TR><TR><TD>WILLIAM HACKMAN</TD></TR><TR><TD>TIM HACKMAN</TD></TR><TR><TD>BEN HARRIS</TD></TR><TR><TD>CATE HARRIS</TD></TR><TR><TD>DAN HARRIS</TD></TR><TR><TD>MEG HAWKE</TD></TR><TR><TD>GEOFFREY HESTON</TD></TR><TR><TD>KENNETH HOFFMAN</TD></TR><TR><TD>WOODY HOFFMAN</TD></TR><TR><TD>MAE HOFFMAN</TD></TR><TR><TD>HARVEY HOPE</TD></TR><TR><TD>MORGAN HOPKINS</TD></TR><TR><TD>GENE HOPKINS</TD></TR><TR><TD>NATALIE HOPKINS</TD></TR><TR><TD>MENA HOPPER</TD></TR><TR><TD>ADAM HOPPER</TD></TR><TR><TD>ANGELA HUDSON</TD></TR><TR><TD>CARMEN HUNT</TD></TR><TR><TD>WHOOPI HURT</TD></TR><TR><TD>WARREN JACKMAN</TD></TR><TR><TD>JANE JACKMAN</TD></TR><TR><TD>ALBERT JOHANSSON</TD></TR><TR><TD>MATTHEW JOHANSSON</TD></TR><TR><TD>RAY JOHANSSON</TD></TR><TR><TD>WOODY JOLIE</TD></TR><TR><TD>KIRK JOVOVICH</TD></TR><TR><TD>MARY KEITEL</TD></TR><TR><TD>MILLA KEITEL</TD></TR><TR><TD>GRETA KEITEL</TD></TR><TR><TD>REESE KILMER</TD></TR><TR><TD>OPRAH KILMER</TD></TR><TR><TD>MINNIE KILMER</TD></TR><TR><TD>FAY KILMER</TD></TR><TR><TD>SANDRA KILMER</TD></TR><TR><TD>MATTHEW LEIGH</TD></TR><TR><TD>JOHNNY LOLLOBRIGIDA</TD></TR><TR><TD>GRETA MALDEN</TD></TR><TR><TD>ED MANSFIELD</TD></TR><TR><TD>ELVIS MARX</TD></TR><TR><TD>MICHELLE MCCONAUGHEY</TD></TR><TR><TD>CARY MCCONAUGHEY</TD></TR><TR><TD>MORGAN MCDORMAND</TD></TR><TR><TD>GENE MCKELLEN</TD></TR><TR><TD>TOM MCKELLEN</TD></TR><TR><TD>JULIA MCQUEEN</TD></TR><TR><TD>CATE MCQUEEN</TD></TR><TR><TD>TOM MIRANDA</TD></TR><TR><TD>PENELOPE MONROE</TD></TR><TR><TD>LISA MONROE</TD></TR><TR><TD>GRACE MOSTEL</TD></TR><TR><TD>JIM MOSTEL</TD></TR><TR><TD>JAYNE NEESON</TD></TR><TR><TD>CHRISTIAN NEESON</TD></TR><TR><TD>BETTE NICHOLSON</TD></TR><TR><TD>ALBERT NOLTE</TD></TR><TR><TD>JAYNE NOLTE</TD></TR><TR><TD>SALMA NOLTE</TD></TR><TR><TD>WARREN NOLTE</TD></TR><TR><TD>AUDREY OLIVIER</TD></TR><TR><TD>CUBA OLIVIER</TD></TR><TR><TD>KIRSTEN PALTROW</TD></TR><TR><TD>KENNETH PALTROW</TD></TR><TR><TD>SANDRA PECK</TD></TR><TR><TD>SPENCER PECK</TD></TR><TR><TD>MILLA PECK</TD></TR><TR><TD>RICHARD PENN</TD></TR><TR><TD>GARY PENN</TD></TR><TR><TD>KENNETH PESCI</TD></TR><TR><TD>OLYMPIA PFEIFFER</TD></TR><TR><TD>GARY PHOENIX</TD></TR><TR><TD>PENELOPE PINKETT</TD></TR><TR><TD>JAMES PITT</TD></TR><TR><TD>BURT POSEY</TD></TR><TR><TD>ELLEN PRESLEY</TD></TR><TR><TD>RITA REYNOLDS</TD></TR><TR><TD>JADA RYDER</TD></TR><TR><TD>JAYNE SILVERSTONE</TD></TR><TR><TD>JEFF SILVERSTONE</TD></TR><TR><TD>GROUCHO SINATRA</TD></TR><TR><TD>SISSY SOBIESKI</TD></TR><TR><TD>NICK STALLONE</TD></TR><TR><TD>DAN STREEP</TD></TR><TR><TD>CAMERON STREEP</TD></TR><TR><TD>JOHN SUVARI</TD></TR><TR><TD>JOE SWANK</TD></TR><TR><TD>IAN TANDY</TD></TR><TR><TD>MARY TANDY</TD></TR><TR><TD>DUSTIN TAUTOU</TD></TR><TR><TD>MENA TEMPLE</TD></TR><TR><TD>RUSSELL TEMPLE</TD></TR><TR><TD>THORA TEMPLE</TD></TR><TR><TD>BURT TEMPLE</TD></TR><TR><TD>FRANCES TOMEI</TD></TR><TR><TD>KENNETH TORN</TD></TR><TR><TD>DAN TORN</TD></TR><TR><TD>WALTER TORN</TD></TR><TR><TD>LUCILLE TRACY</TD></TR><TR><TD>RENEE TRACY</TD></TR><TR><TD>HELEN VOIGHT</TD></TR><TR><TD>NICK WAHLBERG</TD></TR><TR><TD>DARYL WAHLBERG</TD></TR><TR><TD>BELA WALKEN</TD></TR><TR><TD>ALEC WAYNE</TD></TR><TR><TD>REESE WEST</TD></TR><TR><TD>CHRISTOPHER WEST</TD></TR><TR><TD>MORGAN WILLIAMS</TD></TR><TR><TD>GROUCHO WILLIAMS</TD></TR><TR><TD>SEAN WILLIAMS</TD></TR><TR><TD>HUMPHREY WILLIS</TD></TR><TR><TD>BEN WILLIS</TD></TR><TR><TD>GENE WILLIS</TD></TR><TR><TD>WILL WILSON</TD></TR><TR><TD>FAY WINSLET</TD></TR><TR><TD>RIP WINSLET</TD></TR><TR><TD>ANGELA WITHERSPOON</TD></TR><TR><TD>UMA WOOD</TD></TR><TR><TD>FAY WOOD</TD></TR><TR><TD>CAMERON WRAY</TD></TR><TR><TD>MINNIE ZELLWEGER</TD></TR><TR><TD>JULIA ZELLWEGER</TD></TR><TR><TD>CAMERON ZELLWEGER</TD></TR></TABLE>"
      ]
     },
     "metadata": {},
     "output_type": "display_data"
    }
   ],
   "source": [
    "SELECT CONCAT(s.first_name, _utf8' ',  s.last_name) AS Actor \n",
    "FROM actor as s\n",
    "order by s.last_name;"
   ]
  },
  {
   "cell_type": "code",
   "execution_count": 35,
   "id": "bc825a37",
   "metadata": {},
   "outputs": [
    {
     "data": {
      "text/html": [
       "<TABLE BORDER=1><TR><TH>categoria</TH><TH>numero_actores</TH></TR><TR><TD>Sports</TD><TD>441</TD></TR><TR><TD>Foreign</TD><TD>397</TD></TR><TR><TD>Documentary</TD><TD>385</TD></TR><TR><TD>Action</TD><TD>363</TD></TR><TR><TD>Animation</TD><TD>361</TD></TR><TR><TD>Drama</TD><TD>350</TD></TR><TR><TD>Family</TD><TD>347</TD></TR><TR><TD>Children</TD><TD>344</TD></TR><TR><TD>New</TD><TD>343</TD></TR><TR><TD>Sci-Fi</TD><TD>326</TD></TR><TR><TD>Travel</TD><TD>321</TD></TR><TR><TD>Horror</TD><TD>317</TD></TR><TR><TD>Classics</TD><TD>307</TD></TR><TR><TD>Games</TD><TD>293</TD></TR><TR><TD>Comedy</TD><TD>286</TD></TR><TR><TD>Music</TD><TD>281</TD></TR></TABLE>"
      ]
     },
     "metadata": {},
     "output_type": "display_data"
    }
   ],
   "source": [
    "SELECT c.name as categoria, COUNT(actor_id) AS numero_actores\n",
    "FROM category AS c\n",
    "JOIN film_category as fc ON c.category_id = fc.category_id\n",
    "JOIN film as f ON fc.film_id = f.film_id\n",
    "JOIN film_actor as fa ON f.film_id = fa.film_id\n",
    "GROUP BY categoria\n",
    "ORDER BY numero_actores DESC;"
   ]
  },
  {
   "cell_type": "code",
   "execution_count": 36,
   "id": "c27affd0",
   "metadata": {},
   "outputs": [
    {
     "data": {
      "text/html": [
       "<TABLE BORDER=1><TR><TH>tienda</TH><TH>actor_estrella</TH><TH>valor</TH></TR><TR><TD>28 MySQL Boulevard</TD><TD>PENELOPE GUINESS</TD><TD>11.99</TD></TR><TR><TD>47 MySakila Drive</TD><TD>PENELOPE GUINESS</TD><TD>11.99</TD></TR></TABLE>"
      ]
     },
     "metadata": {},
     "output_type": "display_data"
    }
   ],
   "source": [
    "SELECT  d.address as tienda,\n",
    "        CONCAT(a.first_name, _utf8' ',  a.last_name) AS actor_estrella,\n",
    "        MAX(p.amount) as valor\n",
    "FROM actor AS a\n",
    "JOIN film_actor AS fa ON a.actor_id = fa.actor_id\n",
    "JOIN film AS f ON fa.film_id = f.film_id\n",
    "JOIN inventory AS i ON f.film_id = i.film_id\n",
    "JOIN rental AS r ON i.inventory_id = r.inventory_id\n",
    "JOIN payment AS p ON r.rental_id = p.rental_id\n",
    "JOIN store AS s ON i.store_id = s.store_id\n",
    "JOIN address AS d ON s.address_id = d.address_id\n",
    "GROUP BY tienda;"
   ]
  },
  {
   "cell_type": "code",
   "execution_count": 37,
   "id": "ad2225f9",
   "metadata": {},
   "outputs": [
    {
     "data": {
      "text/html": [
       "<TABLE BORDER=1><TR><TH>tienda</TH><TH>valor</TH></TR><TR><TD>28 MySQL Boulevard</TD><TD>33726.77</TD></TR><TR><TD>47 MySakila Drive</TD><TD>33679.79</TD></TR></TABLE>"
      ]
     },
     "metadata": {},
     "output_type": "display_data"
    }
   ],
   "source": [
    "select  d.address as tienda,\n",
    "        SUM(p.amount) as valor\n",
    "from    address as d\n",
    "join    store as s on s.address_id = d.address_id\n",
    "join    inventory as i on i.store_id = s.store_id\n",
    "join    rental as r on r.inventory_id = i.inventory_id\n",
    "join    payment as p on p.rental_id = r.rental_id\n",
    "group by tienda;"
   ]
  },
  {
   "cell_type": "code",
   "execution_count": null,
   "id": "a027e3ff",
   "metadata": {},
   "outputs": [],
   "source": []
  }
 ],
 "metadata": {
  "kernelspec": {
   "display_name": "MariaDB",
   "language": "SQL",
   "name": "mariadb_kernel"
  },
  "language_info": {
   "file_extension": ".sql",
   "mimetype": "text/plain",
   "name": "SQL"
  }
 },
 "nbformat": 4,
 "nbformat_minor": 5
}
